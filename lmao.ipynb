{
 "cells": [
  {
   "cell_type": "code",
   "execution_count": 33,
   "metadata": {},
   "outputs": [],
   "source": [
    "import json"
   ]
  },
  {
   "cell_type": "code",
   "execution_count": 34,
   "metadata": {},
   "outputs": [],
   "source": [
    "data = json.load(open('data/coco/annotations/instances_val2017.json'))"
   ]
  },
  {
   "cell_type": "code",
   "execution_count": 35,
   "metadata": {},
   "outputs": [
    {
     "data": {
      "text/plain": [
       "dict_keys(['info', 'licenses', 'categories', 'images', 'annotations'])"
      ]
     },
     "execution_count": 35,
     "metadata": {},
     "output_type": "execute_result"
    }
   ],
   "source": [
    "annotations = data['annotations']\n",
    "data.keys()"
   ]
  },
  {
   "cell_type": "code",
   "execution_count": 36,
   "metadata": {},
   "outputs": [],
   "source": [
    "remove = []\n",
    "for annotation in annotations:\n",
    "  has_null = annotation['bbox'].count(None) > 0\n",
    "  if has_null:\n",
    "    remove.append(annotation['image_id'])\n",
    "\n",
    "for img in remove:\n",
    "  for annotation in annotations:\n",
    "    if annotation['image_id'] == img:\n",
    "      annotations.remove(annotation)\n",
    "  for image in data['images']:\n",
    "    if image['id'] == img:\n",
    "      data['images'].remove(image)\n",
    "\n",
    "json.dump(data, open('data/coco/annotations/instances_val2017_.json', 'w'))\n"
   ]
  }
 ],
 "metadata": {
  "kernelspec": {
   "display_name": "detr",
   "language": "python",
   "name": "python3"
  },
  "language_info": {
   "codemirror_mode": {
    "name": "ipython",
    "version": 3
   },
   "file_extension": ".py",
   "mimetype": "text/x-python",
   "name": "python",
   "nbconvert_exporter": "python",
   "pygments_lexer": "ipython3",
   "version": "3.11.4"
  },
  "orig_nbformat": 4
 },
 "nbformat": 4,
 "nbformat_minor": 2
}
