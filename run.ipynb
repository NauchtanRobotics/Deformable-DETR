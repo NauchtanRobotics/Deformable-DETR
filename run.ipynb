{
 "cells": [
  {
   "cell_type": "code",
   "execution_count": 13,
   "metadata": {},
   "outputs": [
    {
     "name": "stdout",
     "output_type": "stream",
     "text": [
      "+ GPUS=1\n",
      "+ RUN_COMMAND='./configs/local.sh --batch_size 1 --d 10'\n",
      "+ '[' 1 -lt 8 ']'\n",
      "+ GPUS_PER_NODE=1\n",
      "+ MASTER_ADDR=127.0.0.1\n",
      "+ MASTER_PORT=29500\n",
      "+ NODE_RANK=0\n",
      "+ let NNODES=GPUS/GPUS_PER_NODE\n",
      "+ python ./tools/launch.py --nnodes 1 --node_rank 0 --master_addr 127.0.0.1 --master_port 29500 --nproc_per_node 1 ./configs/local.sh --batch_size 1 --d 10\n",
      "+ EXP_DIR=/home/qninhdt/code/Deformable-DETR-lmao/experiments\n",
      "+ PY_ARGS='--batch_size 1 --d 10'\n",
      "+ python -u main.py --output_dir /home/qninhdt/code/Deformable-DETR-lmao/experiments --resume /home/qninhdt/code/Deformable-DETR-lmao/experiments/checkpoint.pth --batch_size 1 --d 10\n",
      "| distributed init (rank 0): env://\n",
      "git:\n",
      "  sha: 30e6bbf7347a951063ba6a051c1dda6cc09b6c58, status: has uncommited changes, branch: main\n",
      "\n",
      "/home/qninhdt/anaconda3/envs/detr/lib/python3.11/site-packages/torchvision/models/_utils.py:208: UserWarning: The parameter 'pretrained' is deprecated since 0.13 and may be removed in the future, please use 'weights' instead.\n",
      "  warnings.warn(\n",
      "/home/qninhdt/anaconda3/envs/detr/lib/python3.11/site-packages/torchvision/models/_utils.py:223: UserWarning: Arguments other than a weight enum or `None` for 'weights' are deprecated since 0.13 and may be removed in the future. The current behavior is equivalent to passing `weights=ResNet50_Weights.IMAGENET1K_V1`. You can also use `weights=ResNet50_Weights.DEFAULT` to get the most up-to-date weights.\n",
      "  warnings.warn(msg)\n",
      "number of params: 39847265\n",
      "loading annotations into memory...\n",
      "Done (t=0.00s)\n",
      "creating index...\n",
      "index created!\n",
      "loading annotations into memory...\n",
      "Done (t=0.00s)\n",
      "creating index...\n",
      "index created!\n",
      "Continue training from epoch 0, skip 40 iterations\n",
      "Warning: (hack) args.override_resumed_lr_drop is set to True, so args.lr_drop would override lr_drop in resumed lr_scheduler.\n",
      "/home/qninhdt/anaconda3/envs/detr/lib/python3.11/site-packages/torch/optim/lr_scheduler.py:149: UserWarning: The epoch parameter in `scheduler.step()` was not necessary and is being deprecated where possible. Please use `scheduler.step()` to step the scheduler. During the deprecation, if epoch is different from None, the closed form is used instead of the new chainable form, where available. Please open an issue if you are unable to replicate your use case: https://github.com/pytorch/pytorch/issues/new/choose.\n",
      "  warnings.warn(EPOCH_DEPRECATION_WARNING, UserWarning)\n",
      "Start training\n",
      "Traceback (most recent call last):\n",
      "  File \"/home/qninhdt/code/Deformable-DETR-lmao/main.py\", line 248, in <module>\n",
      "    main(args)\n",
      "  File \"/home/qninhdt/code/Deformable-DETR-lmao/main.py\", line 204, in main\n",
      "    train_stats = train_one_epoch(\n",
      "                  ^^^^^^^^^^^^^^^^\n",
      "  File \"/home/qninhdt/code/Deformable-DETR-lmao/engine.py\", line 37, in train_one_epoch\n",
      "    prefetcher = data_prefetcher(data_loader, device, prefetch=True, skip=skip, dataset=dataset)\n",
      "                 ^^^^^^^^^^^^^^^^^^^^^^^^^^^^^^^^^^^^^^^^^^^^^^^^^^^^^^^^^^^^^^^^^^^^^^^^^^^^^^^\n",
      "  File \"/home/qninhdt/code/Deformable-DETR-lmao/datasets/data_prefetcher.py\", line 22, in __init__\n",
      "    next(self.loader)\n",
      "  File \"/home/qninhdt/anaconda3/envs/detr/lib/python3.11/site-packages/torch/utils/data/dataloader.py\", line 630, in __next__\n",
      "    data = self._next_data()\n",
      "           ^^^^^^^^^^^^^^^^^\n",
      "  File \"/home/qninhdt/anaconda3/envs/detr/lib/python3.11/site-packages/torch/utils/data/dataloader.py\", line 1345, in _next_data\n",
      "    return self._process_data(data)\n",
      "           ^^^^^^^^^^^^^^^^^^^^^^^^\n",
      "  File \"/home/qninhdt/anaconda3/envs/detr/lib/python3.11/site-packages/torch/utils/data/dataloader.py\", line 1371, in _process_data\n",
      "    data.reraise()\n",
      "  File \"/home/qninhdt/anaconda3/envs/detr/lib/python3.11/site-packages/torch/_utils.py\", line 695, in reraise\n",
      "    raise exception\n",
      "KeyError: Caught KeyError in DataLoader worker process 0.\n",
      "Original Traceback (most recent call last):\n",
      "  File \"/home/qninhdt/anaconda3/envs/detr/lib/python3.11/site-packages/torch/utils/data/_utils/worker.py\", line 308, in _worker_loop\n",
      "    data = fetcher.fetch(index)\n",
      "           ^^^^^^^^^^^^^^^^^^^^\n",
      "  File \"/home/qninhdt/anaconda3/envs/detr/lib/python3.11/site-packages/torch/utils/data/_utils/fetch.py\", line 51, in fetch\n",
      "    data = [self.dataset[idx] for idx in possibly_batched_index]\n",
      "           ^^^^^^^^^^^^^^^^^^^^^^^^^^^^^^^^^^^^^^^^^^^^^^^^^^^^^\n",
      "  File \"/home/qninhdt/anaconda3/envs/detr/lib/python3.11/site-packages/torch/utils/data/_utils/fetch.py\", line 51, in <listcomp>\n",
      "    data = [self.dataset[idx] for idx in possibly_batched_index]\n",
      "            ~~~~~~~~~~~~^^^^^\n",
      "  File \"/home/qninhdt/code/Deformable-DETR-lmao/datasets/coco.py\", line 35, in __getitem__\n",
      "    if os.environ['CC'] == 'True':\n",
      "       ~~~~~~~~~~^^^^^^\n",
      "  File \"<frozen os>\", line 679, in __getitem__\n",
      "KeyError: 'CC'\n",
      "\n",
      "Traceback (most recent call last):\n",
      "  File \"/home/qninhdt/code/Deformable-DETR-lmao/./tools/launch.py\", line 192, in <module>\n",
      "    main()\n",
      "  File \"/home/qninhdt/code/Deformable-DETR-lmao/./tools/launch.py\", line 187, in main\n",
      "    raise subprocess.CalledProcessError(returncode=process.returncode,\n",
      "subprocess.CalledProcessError: Command '['./configs/local.sh', '--batch_size', '1', '--d', '10']' returned non-zero exit status 1.\n"
     ]
    }
   ],
   "source": [
    "!GPUS_PER_NODE=1 ./tools/run_dist_launch.sh 1 ./configs/local.sh --batch_size 1 --d 10"
   ]
  },
  {
   "cell_type": "code",
   "execution_count": 14,
   "metadata": {},
   "outputs": [
    {
     "name": "stdout",
     "output_type": "stream",
     "text": [
      "Not using distributed mode\n",
      "git:\n",
      "  sha: 30e6bbf7347a951063ba6a051c1dda6cc09b6c58, status: has uncommited changes, branch: main\n",
      "\n",
      "Namespace(lr=0.0002, lr_backbone_names=['backbone.0'], lr_backbone=2e-05, lr_linear_proj_names=['reference_points', 'sampling_offsets'], lr_linear_proj_mult=0.1, batch_size=2, weight_decay=0.0001, epochs=50, lr_drop=40, lr_drop_epochs=None, clip_max_norm=0.1, sgd=False, with_box_refine=False, two_stage=False, frozen_weights=None, backbone='resnet50', dilation=False, position_embedding='sine', position_embedding_scale=6.283185307179586, num_feature_levels=4, enc_layers=6, dec_layers=6, dim_feedforward=1024, hidden_dim=256, dropout=0.1, nheads=8, num_queries=300, dec_n_points=4, enc_n_points=4, masks=False, aux_loss=True, set_cost_class=2, set_cost_bbox=5, set_cost_giou=2, mask_loss_coef=1, dice_loss_coef=1, cls_loss_coef=2, bbox_loss_coef=5, giou_loss_coef=2, focal_alpha=0.25, dataset_file='coco', coco_path='./data/coco', coco_panoptic_path=None, remove_difficult=False, output_dir='output', device='cuda', seed=42, resume='/home/qninhdt/code/Deformable-DETR-lmao/experiments/checkpoint.pth', start_epoch=0, eval=False, num_workers=2, cache_mode=False, distributed=False)\n",
      "/home/qninhdt/anaconda3/envs/detr/lib/python3.11/site-packages/torchvision/models/_utils.py:208: UserWarning: The parameter 'pretrained' is deprecated since 0.13 and may be removed in the future, please use 'weights' instead.\n",
      "  warnings.warn(\n",
      "/home/qninhdt/anaconda3/envs/detr/lib/python3.11/site-packages/torchvision/models/_utils.py:223: UserWarning: Arguments other than a weight enum or `None` for 'weights' are deprecated since 0.13 and may be removed in the future. The current behavior is equivalent to passing `weights=ResNet50_Weights.IMAGENET1K_V1`. You can also use `weights=ResNet50_Weights.DEFAULT` to get the most up-to-date weights.\n",
      "  warnings.warn(msg)\n",
      "  0%|                                                    | 0/10 [00:00<?, ?it/s]/home/qninhdt/anaconda3/envs/detr/lib/python3.11/site-packages/torch/functional.py:504: UserWarning: torch.meshgrid: in an upcoming release, it will be required to pass the indexing argument. (Triggered internally at ../aten/src/ATen/native/TensorShape.cpp:3549.)\n",
      "  return _VF.meshgrid(tensors, **kwargs)  # type: ignore[attr-defined]\n",
      "100%|███████████████████████████████████████████| 10/10 [00:02<00:00,  4.08it/s]\n"
     ]
    }
   ],
   "source": [
    "!python demo.py \\\n",
    "    --output_dir output \\\n",
    "    --resume /home/qninhdt/code/Deformable-DETR-lmao/experiments/checkpoint.pth"
   ]
  }
 ],
 "metadata": {
  "kernelspec": {
   "display_name": "detr",
   "language": "python",
   "name": "python3"
  },
  "language_info": {
   "codemirror_mode": {
    "name": "ipython",
    "version": 3
   },
   "file_extension": ".py",
   "mimetype": "text/x-python",
   "name": "python",
   "nbconvert_exporter": "python",
   "pygments_lexer": "ipython3",
   "version": "3.11.4"
  },
  "orig_nbformat": 4
 },
 "nbformat": 4,
 "nbformat_minor": 2
}
