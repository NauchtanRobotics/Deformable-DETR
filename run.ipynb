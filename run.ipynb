{
 "cells": [
  {
   "cell_type": "code",
   "execution_count": 9,
   "metadata": {},
   "outputs": [
    {
     "name": "stdout",
     "output_type": "stream",
     "text": [
      "+ GPUS=1\n",
      "+ RUN_COMMAND='./configs/local.sh --batch_size 1 --d 10'\n",
      "+ '[' 1 -lt 8 ']'\n",
      "+ GPUS_PER_NODE=1\n",
      "+ MASTER_ADDR=127.0.0.1\n",
      "+ MASTER_PORT=29500\n",
      "+ NODE_RANK=0\n",
      "+ let NNODES=GPUS/GPUS_PER_NODE\n",
      "+ python ./tools/launch.py --nnodes 1 --node_rank 0 --master_addr 127.0.0.1 --master_port 29500 --nproc_per_node 1 ./configs/local.sh --batch_size 1 --d 10\n",
      "+ EXP_DIR=/home/qninhdt/code/Deformable-DETR-lmao/experiments\n",
      "+ PY_ARGS='--batch_size 1 --d 10'\n",
      "+ python -u main.py --output_dir /home/qninhdt/code/Deformable-DETR-lmao/experiments --resume /home/qninhdt/code/Deformable-DETR-lmao/experiments/checkpoint.pth --batch_size 1 --d 10\n",
      "| distributed init (rank 0): env://\n",
      "git:\n",
      "  sha: 98ba82c401998b1142ef6c91fedb4e6ded403cf4, status: has uncommited changes, branch: main\n",
      "\n",
      "/home/qninhdt/anaconda3/envs/detr/lib/python3.11/site-packages/torchvision/models/_utils.py:208: UserWarning: The parameter 'pretrained' is deprecated since 0.13 and may be removed in the future, please use 'weights' instead.\n",
      "  warnings.warn(\n",
      "/home/qninhdt/anaconda3/envs/detr/lib/python3.11/site-packages/torchvision/models/_utils.py:223: UserWarning: Arguments other than a weight enum or `None` for 'weights' are deprecated since 0.13 and may be removed in the future. The current behavior is equivalent to passing `weights=ResNet50_Weights.IMAGENET1K_V1`. You can also use `weights=ResNet50_Weights.DEFAULT` to get the most up-to-date weights.\n",
      "  warnings.warn(msg)\n",
      "number of params: 39847265\n",
      "loading annotations into memory...\n",
      "Done (t=0.00s)\n",
      "creating index...\n",
      "index created!\n",
      "loading annotations into memory...\n",
      "Done (t=0.00s)\n",
      "creating index...\n",
      "index created!\n",
      "Continue training from epoch 24, skip 70 iterations\n",
      "Warning: (hack) args.override_resumed_lr_drop is set to True, so args.lr_drop would override lr_drop in resumed lr_scheduler.\n",
      "/home/qninhdt/anaconda3/envs/detr/lib/python3.11/site-packages/torch/optim/lr_scheduler.py:149: UserWarning: The epoch parameter in `scheduler.step()` was not necessary and is being deprecated where possible. Please use `scheduler.step()` to step the scheduler. During the deprecation, if epoch is different from None, the closed form is used instead of the new chainable form, where available. Please open an issue if you are unable to replicate your use case: https://github.com/pytorch/pytorch/issues/new/choose.\n",
      "  warnings.warn(EPOCH_DEPRECATION_WARNING, UserWarning)\n",
      "Start training\n",
      "Traceback (most recent call last):\n",
      "  File \"/home/qninhdt/code/Deformable-DETR-lmao/main.py\", line 257, in <module>\n",
      "    main(args)\n",
      "  File \"/home/qninhdt/code/Deformable-DETR-lmao/main.py\", line 191, in main\n",
      "    print(len(iter(sampler_train)))\n",
      "          ^^^^^^^^^^^^^^^^^^^^^^^^\n",
      "TypeError: object of type 'list_iterator' has no len()\n",
      "Traceback (most recent call last):\n",
      "  File \"/home/qninhdt/code/Deformable-DETR-lmao/./tools/launch.py\", line 192, in <module>\n",
      "    main()\n",
      "  File \"/home/qninhdt/code/Deformable-DETR-lmao/./tools/launch.py\", line 187, in main\n",
      "    raise subprocess.CalledProcessError(returncode=process.returncode,\n",
      "subprocess.CalledProcessError: Command '['./configs/local.sh', '--batch_size', '1', '--d', '10']' returned non-zero exit status 1.\n"
     ]
    }
   ],
   "source": [
    "!GPUS_PER_NODE=1 ./tools/run_dist_launch.sh 1 ./configs/local.sh --batch_size 1 --d 10"
   ]
  },
  {
   "cell_type": "code",
   "execution_count": 10,
   "metadata": {},
   "outputs": [
    {
     "name": "stdout",
     "output_type": "stream",
     "text": [
      "Not using distributed mode\n",
      "git:\n",
      "  sha: 98ba82c401998b1142ef6c91fedb4e6ded403cf4, status: has uncommited changes, branch: main\n",
      "\n",
      "Namespace(lr=0.0002, lr_backbone_names=['backbone.0'], lr_backbone=2e-05, lr_linear_proj_names=['reference_points', 'sampling_offsets'], lr_linear_proj_mult=0.1, batch_size=2, weight_decay=0.0001, epochs=50, lr_drop=40, lr_drop_epochs=None, clip_max_norm=0.1, sgd=False, with_box_refine=False, two_stage=False, frozen_weights=None, backbone='resnet50', dilation=False, position_embedding='sine', position_embedding_scale=6.283185307179586, num_feature_levels=4, enc_layers=6, dec_layers=6, dim_feedforward=1024, hidden_dim=256, dropout=0.1, nheads=8, num_queries=300, dec_n_points=4, enc_n_points=4, masks=False, aux_loss=True, set_cost_class=2, set_cost_bbox=5, set_cost_giou=2, mask_loss_coef=1, dice_loss_coef=1, cls_loss_coef=2, bbox_loss_coef=5, giou_loss_coef=2, focal_alpha=0.25, dataset_file='coco', coco_path='./data/coco', coco_panoptic_path=None, remove_difficult=False, output_dir='output', device='cuda', seed=42, resume='/home/qninhdt/code/Deformable-DETR-lmao/experiments/checkpoint.pth', start_epoch=0, eval=False, num_workers=2, cache_mode=False, distributed=False)\n",
      "/home/qninhdt/anaconda3/envs/detr/lib/python3.11/site-packages/torchvision/models/_utils.py:208: UserWarning: The parameter 'pretrained' is deprecated since 0.13 and may be removed in the future, please use 'weights' instead.\n",
      "  warnings.warn(\n",
      "/home/qninhdt/anaconda3/envs/detr/lib/python3.11/site-packages/torchvision/models/_utils.py:223: UserWarning: Arguments other than a weight enum or `None` for 'weights' are deprecated since 0.13 and may be removed in the future. The current behavior is equivalent to passing `weights=ResNet50_Weights.IMAGENET1K_V1`. You can also use `weights=ResNet50_Weights.DEFAULT` to get the most up-to-date weights.\n",
      "  warnings.warn(msg)\n",
      "  0%|                                                    | 0/10 [00:00<?, ?it/s]/home/qninhdt/anaconda3/envs/detr/lib/python3.11/site-packages/torch/functional.py:504: UserWarning: torch.meshgrid: in an upcoming release, it will be required to pass the indexing argument. (Triggered internally at ../aten/src/ATen/native/TensorShape.cpp:3549.)\n",
      "  return _VF.meshgrid(tensors, **kwargs)  # type: ignore[attr-defined]\n",
      " 60%|██████████████████████████▍                 | 6/10 [00:01<00:01,  3.84it/s]^C\n",
      " 60%|██████████████████████████▍                 | 6/10 [00:01<00:01,  3.10it/s]\n",
      "Traceback (most recent call last):\n",
      "  File \"/home/qninhdt/code/Deformable-DETR-lmao/demo.py\", line 285, in <module>\n",
      "    main(args)\n",
      "  File \"/home/qninhdt/code/Deformable-DETR-lmao/demo.py\", line 220, in main\n",
      "    outputs = model(img)\n",
      "              ^^^^^^^^^^\n",
      "  File \"/home/qninhdt/anaconda3/envs/detr/lib/python3.11/site-packages/torch/nn/modules/module.py\", line 1519, in _wrapped_call_impl\n",
      "    return self._call_impl(*args, **kwargs)\n",
      "           ^^^^^^^^^^^^^^^^^^^^^^^^^^^^^^^^\n",
      "  File \"/home/qninhdt/anaconda3/envs/detr/lib/python3.11/site-packages/torch/nn/modules/module.py\", line 1528, in _call_impl\n",
      "    return forward_call(*args, **kwargs)\n",
      "           ^^^^^^^^^^^^^^^^^^^^^^^^^^^^^\n",
      "  File \"/home/qninhdt/code/Deformable-DETR-lmao/models/deformable_detr.py\", line 157, in forward\n",
      "    hs, init_reference, inter_references, enc_outputs_class, enc_outputs_coord_unact = self.transformer(srcs, masks, pos, query_embeds)\n",
      "                                                                                       ^^^^^^^^^^^^^^^^^^^^^^^^^^^^^^^^^^^^^^^^^^^^^^^^\n",
      "  File \"/home/qninhdt/anaconda3/envs/detr/lib/python3.11/site-packages/torch/nn/modules/module.py\", line 1519, in _wrapped_call_impl\n",
      "    return self._call_impl(*args, **kwargs)\n",
      "           ^^^^^^^^^^^^^^^^^^^^^^^^^^^^^^^^\n",
      "  File \"/home/qninhdt/anaconda3/envs/detr/lib/python3.11/site-packages/torch/nn/modules/module.py\", line 1528, in _call_impl\n",
      "    return forward_call(*args, **kwargs)\n",
      "           ^^^^^^^^^^^^^^^^^^^^^^^^^^^^^\n",
      "  File \"/home/qninhdt/code/Deformable-DETR-lmao/models/deformable_transformer.py\", line 148, in forward\n",
      "    spatial_shapes = torch.as_tensor(spatial_shapes, dtype=torch.long, device=src_flatten.device)\n",
      "                     ^^^^^^^^^^^^^^^^^^^^^^^^^^^^^^^^^^^^^^^^^^^^^^^^^^^^^^^^^^^^^^^^^^^^^^^^^^^^\n",
      "KeyboardInterrupt\n"
     ]
    }
   ],
   "source": [
    "!python demo.py \\\n",
    "    --output_dir output \\\n",
    "    --resume /home/qninhdt/code/Deformable-DETR-lmao/experiments/checkpoint.pth"
   ]
  }
 ],
 "metadata": {
  "kernelspec": {
   "display_name": "detr",
   "language": "python",
   "name": "python3"
  },
  "language_info": {
   "codemirror_mode": {
    "name": "ipython",
    "version": 3
   },
   "file_extension": ".py",
   "mimetype": "text/x-python",
   "name": "python",
   "nbconvert_exporter": "python",
   "pygments_lexer": "ipython3",
   "version": "3.11.4"
  },
  "orig_nbformat": 4
 },
 "nbformat": 4,
 "nbformat_minor": 2
}
