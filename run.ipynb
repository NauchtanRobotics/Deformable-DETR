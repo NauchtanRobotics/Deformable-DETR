{
 "cells": [
  {
   "cell_type": "code",
   "execution_count": 21,
   "metadata": {},
   "outputs": [
    {
     "name": "stdout",
     "output_type": "stream",
     "text": [
      "+ GPUS=1\n",
      "+ RUN_COMMAND='./configs/local.sh --batch_size 1 --d 10'\n",
      "+ '[' 1 -lt 8 ']'\n",
      "+ GPUS_PER_NODE=1\n",
      "+ MASTER_ADDR=127.0.0.1\n",
      "+ MASTER_PORT=29500\n",
      "+ NODE_RANK=0\n",
      "+ let NNODES=GPUS/GPUS_PER_NODE\n",
      "+ python ./tools/launch.py --nnodes 1 --node_rank 0 --master_addr 127.0.0.1 --master_port 29500 --nproc_per_node 1 ./configs/local.sh --batch_size 1 --d 10\n",
      "+ EXP_DIR=/home/qninhdt/code/Deformable-DETR-lmao/experiments\n",
      "+ PY_ARGS='--batch_size 1 --d 10'\n",
      "+ python -u main.py --output_dir /home/qninhdt/code/Deformable-DETR-lmao/experiments --resume /home/qninhdt/code/Deformable-DETR-lmao/experiments/checkpoint.pth --batch_size 1 --d 10\n",
      "| distributed init (rank 0): env://\n",
      "git:\n",
      "  sha: e9f46b874e5d19ed6ad1dbd390261e0395a35401, status: has uncommited changes, branch: main\n",
      "\n",
      "/home/qninhdt/anaconda3/envs/detr/lib/python3.11/site-packages/torchvision/models/_utils.py:208: UserWarning: The parameter 'pretrained' is deprecated since 0.13 and may be removed in the future, please use 'weights' instead.\n",
      "  warnings.warn(\n",
      "/home/qninhdt/anaconda3/envs/detr/lib/python3.11/site-packages/torchvision/models/_utils.py:223: UserWarning: Arguments other than a weight enum or `None` for 'weights' are deprecated since 0.13 and may be removed in the future. The current behavior is equivalent to passing `weights=ResNet50_Weights.IMAGENET1K_V1`. You can also use `weights=ResNet50_Weights.DEFAULT` to get the most up-to-date weights.\n",
      "  warnings.warn(msg)\n",
      "number of params: 39847265\n",
      "loading annotations into memory...\n",
      "Done (t=0.00s)\n",
      "creating index...\n",
      "index created!\n",
      "loading annotations into memory...\n",
      "Done (t=0.00s)\n",
      "creating index...\n",
      "index created!\n",
      "Continue training from epoch 13, skip 20 iterations\n",
      "Warning: (hack) args.override_resumed_lr_drop is set to True, so args.lr_drop would override lr_drop in resumed lr_scheduler.\n",
      "/home/qninhdt/anaconda3/envs/detr/lib/python3.11/site-packages/torch/optim/lr_scheduler.py:149: UserWarning: The epoch parameter in `scheduler.step()` was not necessary and is being deprecated where possible. Please use `scheduler.step()` to step the scheduler. During the deprecation, if epoch is different from None, the closed form is used instead of the new chainable form, where available. Please open an issue if you are unable to replicate your use case: https://github.com/pytorch/pytorch/issues/new/choose.\n",
      "  warnings.warn(EPOCH_DEPRECATION_WARNING, UserWarning)\n",
      "Start training\n",
      "58\n",
      "7\n",
      "60\n",
      "20\n",
      "68\n",
      "21\n",
      "42\n",
      "52\n",
      "30\n",
      "77\n",
      "51\n",
      "34\n",
      "14\n",
      "40\n",
      "59\n",
      "84\n",
      "66\n",
      "23\n",
      "24\n",
      "53\n",
      "11\n",
      "62\n",
      "17\n",
      "50\n",
      "13\n",
      "29\n",
      "/home/qninhdt/anaconda3/envs/detr/lib/python3.11/site-packages/torch/functional.py:504: UserWarning: torch.meshgrid: in an upcoming release, it will be required to pass the indexing argument. (Triggered internally at ../aten/src/ATen/native/TensorShape.cpp:3549.)\n",
      "  return _VF.meshgrid(tensors, **kwargs)  # type: ignore[attr-defined]\n",
      "47\n",
      "Epoch: [13]  [20/90]  eta: 0:01:17  lr: 0.000200  class_error: 50.00  grad_norm: 235.24  loss: 15.0652 (15.0652)  loss_ce: 1.1621 (1.1621)  loss_bbox: 0.6844 (0.6844)  loss_giou: 0.9170 (0.9170)  loss_ce_0: 1.1735 (1.1735)  loss_bbox_0: 0.4933 (0.4933)  loss_giou_0: 0.9410 (0.9410)  loss_ce_1: 1.1918 (1.1918)  loss_bbox_1: 0.3709 (0.3709)  loss_giou_1: 0.6835 (0.6835)  loss_ce_2: 1.0788 (1.0788)  loss_bbox_2: 0.3783 (0.3783)  loss_giou_2: 0.7822 (0.7822)  loss_ce_3: 1.1069 (1.1069)  loss_bbox_3: 0.5176 (0.5176)  loss_giou_3: 0.8186 (0.8186)  loss_ce_4: 1.0862 (1.0862)  loss_bbox_4: 0.6297 (0.6297)  loss_giou_4: 1.0495 (1.0495)  loss_ce_unscaled: 0.5811 (0.5811)  class_error_unscaled: 50.0000 (50.0000)  loss_bbox_unscaled: 0.1369 (0.1369)  loss_giou_unscaled: 0.4585 (0.4585)  cardinality_error_unscaled: 298.0000 (298.0000)  loss_ce_0_unscaled: 0.5868 (0.5868)  loss_bbox_0_unscaled: 0.0987 (0.0987)  loss_giou_0_unscaled: 0.4705 (0.4705)  cardinality_error_0_unscaled: 298.0000 (298.0000)  loss_ce_1_unscaled: 0.5959 (0.5959)  loss_bbox_1_unscaled: 0.0742 (0.0742)  loss_giou_1_unscaled: 0.3417 (0.3417)  cardinality_error_1_unscaled: 298.0000 (298.0000)  loss_ce_2_unscaled: 0.5394 (0.5394)  loss_bbox_2_unscaled: 0.0757 (0.0757)  loss_giou_2_unscaled: 0.3911 (0.3911)  cardinality_error_2_unscaled: 298.0000 (298.0000)  loss_ce_3_unscaled: 0.5534 (0.5534)  loss_bbox_3_unscaled: 0.1035 (0.1035)  loss_giou_3_unscaled: 0.4093 (0.4093)  cardinality_error_3_unscaled: 298.0000 (298.0000)  loss_ce_4_unscaled: 0.5431 (0.5431)  loss_bbox_4_unscaled: 0.1259 (0.1259)  loss_giou_4_unscaled: 0.5247 (0.5247)  cardinality_error_4_unscaled: 298.0000 (298.0000)  time: 1.1079  data: 0.0000  max mem: 2308\n",
      "81\n",
      "49\n",
      "15\n",
      "^C\n",
      "Traceback (most recent call last):\n",
      "  File \"/home/qninhdt/code/Deformable-DETR-lmao/main.py\", line 251, in <module>\n",
      "    main(args)\n",
      "  File \"/home/qninhdt/code/Deformable-DETR-lmao/main.py\", line 207, in main\n",
      "    train_stats = train_one_epoch(\n",
      "                  ^^^^^^^^^^^^^^^^\n",
      "  File \"/home/qninhdt/code/Deformable-DETR-lmao/engine.py\", line 63, in train_one_epoch\n",
      "    losses.backward()\n",
      "  File \"/home/qninhdt/anaconda3/envs/detr/lib/python3.11/site-packages/torch/_tensor.py\", line 492, in backward\n",
      "    torch.autograd.backward(\n",
      "  File \"/home/qninhdt/anaconda3/envs/detr/lib/python3.11/site-packages/torch/autograd/__init__.py\", line 251, in backward\n",
      "    Variable._execution_engine.run_backward(  # Calls into the C++ engine to run the backward pass\n",
      "KeyboardInterrupt\n"
     ]
    }
   ],
   "source": [
    "!GPUS_PER_NODE=1 ./tools/run_dist_launch.sh 1 ./configs/local.sh --batch_size 1 --d 10"
   ]
  },
  {
   "cell_type": "code",
   "execution_count": null,
   "metadata": {},
   "outputs": [
    {
     "name": "stdout",
     "output_type": "stream",
     "text": [
      "Not using distributed mode\n",
      "git:\n",
      "  sha: e9f46b874e5d19ed6ad1dbd390261e0395a35401, status: has uncommited changes, branch: main\n",
      "\n",
      "Namespace(lr=0.0002, lr_backbone_names=['backbone.0'], lr_backbone=2e-05, lr_linear_proj_names=['reference_points', 'sampling_offsets'], lr_linear_proj_mult=0.1, batch_size=2, weight_decay=0.0001, epochs=50, lr_drop=40, lr_drop_epochs=None, clip_max_norm=0.1, sgd=False, with_box_refine=False, two_stage=False, frozen_weights=None, backbone='resnet50', dilation=False, position_embedding='sine', position_embedding_scale=6.283185307179586, num_feature_levels=4, enc_layers=6, dec_layers=6, dim_feedforward=1024, hidden_dim=256, dropout=0.1, nheads=8, num_queries=300, dec_n_points=4, enc_n_points=4, masks=False, aux_loss=True, set_cost_class=2, set_cost_bbox=5, set_cost_giou=2, mask_loss_coef=1, dice_loss_coef=1, cls_loss_coef=2, bbox_loss_coef=5, giou_loss_coef=2, focal_alpha=0.25, dataset_file='coco', coco_path='./data/coco', coco_panoptic_path=None, remove_difficult=False, output_dir='output', device='cuda', seed=42, resume='/home/qninhdt/code/Deformable-DETR-lmao/experiments/checkpoint.pth', start_epoch=0, eval=False, num_workers=2, cache_mode=False, distributed=False)\n",
      "/home/qninhdt/anaconda3/envs/detr/lib/python3.11/site-packages/torchvision/models/_utils.py:208: UserWarning: The parameter 'pretrained' is deprecated since 0.13 and may be removed in the future, please use 'weights' instead.\n",
      "  warnings.warn(\n",
      "/home/qninhdt/anaconda3/envs/detr/lib/python3.11/site-packages/torchvision/models/_utils.py:223: UserWarning: Arguments other than a weight enum or `None` for 'weights' are deprecated since 0.13 and may be removed in the future. The current behavior is equivalent to passing `weights=ResNet50_Weights.IMAGENET1K_V1`. You can also use `weights=ResNet50_Weights.DEFAULT` to get the most up-to-date weights.\n",
      "  warnings.warn(msg)\n",
      "  0%|                                                    | 0/10 [00:00<?, ?it/s]/home/qninhdt/anaconda3/envs/detr/lib/python3.11/site-packages/torch/functional.py:504: UserWarning: torch.meshgrid: in an upcoming release, it will be required to pass the indexing argument. (Triggered internally at ../aten/src/ATen/native/TensorShape.cpp:3549.)\n",
      "  return _VF.meshgrid(tensors, **kwargs)  # type: ignore[attr-defined]\n",
      "100%|███████████████████████████████████████████| 10/10 [00:02<00:00,  3.33it/s]\n"
     ]
    }
   ],
   "source": [
    "!python demo.py \\\n",
    "    --output_dir output \\\n",
    "    --resume /home/qninhdt/code/Deformable-DETR-lmao/experiments/checkpoint.pth"
   ]
  }
 ],
 "metadata": {
  "kernelspec": {
   "display_name": "detr",
   "language": "python",
   "name": "python3"
  },
  "language_info": {
   "codemirror_mode": {
    "name": "ipython",
    "version": 3
   },
   "file_extension": ".py",
   "mimetype": "text/x-python",
   "name": "python",
   "nbconvert_exporter": "python",
   "pygments_lexer": "ipython3",
   "version": "3.11.4"
  },
  "orig_nbformat": 4
 },
 "nbformat": 4,
 "nbformat_minor": 2
}
