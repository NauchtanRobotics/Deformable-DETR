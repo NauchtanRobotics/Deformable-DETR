{
 "cells": [
  {
   "cell_type": "code",
   "execution_count": 10,
   "metadata": {},
   "outputs": [
    {
     "name": "stdout",
     "output_type": "stream",
     "text": [
      "+ GPUS=1\n",
      "+ RUN_COMMAND='./configs/local.sh --batch_size 1 --d 10'\n",
      "+ '[' 1 -lt 8 ']'\n",
      "+ GPUS_PER_NODE=1\n",
      "+ MASTER_ADDR=127.0.0.1\n",
      "+ MASTER_PORT=29500\n",
      "+ NODE_RANK=0\n",
      "+ let NNODES=GPUS/GPUS_PER_NODE\n",
      "+ python ./tools/launch.py --nnodes 1 --node_rank 0 --master_addr 127.0.0.1 --master_port 29500 --nproc_per_node 1 ./configs/local.sh --batch_size 1 --d 10\n",
      "+ EXP_DIR=/home/qninhdt/code/Deformable-DETR-lmao/experiments\n",
      "+ PY_ARGS='--batch_size 1 --d 10'\n",
      "+ python -u main.py --output_dir /home/qninhdt/code/Deformable-DETR-lmao/experiments --resume /home/qninhdt/code/Deformable-DETR-lmao/experiments/checkpoint.pth --batch_size 1 --d 10\n",
      "| distributed init (rank 0): env://\n",
      "git:\n",
      "  sha: 41fb40f724e89e12a2768996f6ad6443d7e1d182, status: has uncommited changes, branch: main\n",
      "\n",
      "/home/qninhdt/anaconda3/envs/detr/lib/python3.11/site-packages/torchvision/models/_utils.py:208: UserWarning: The parameter 'pretrained' is deprecated since 0.13 and may be removed in the future, please use 'weights' instead.\n",
      "  warnings.warn(\n",
      "/home/qninhdt/anaconda3/envs/detr/lib/python3.11/site-packages/torchvision/models/_utils.py:223: UserWarning: Arguments other than a weight enum or `None` for 'weights' are deprecated since 0.13 and may be removed in the future. The current behavior is equivalent to passing `weights=ResNet50_Weights.IMAGENET1K_V1`. You can also use `weights=ResNet50_Weights.DEFAULT` to get the most up-to-date weights.\n",
      "  warnings.warn(msg)\n",
      "number of params: 39847265\n",
      "loading annotations into memory...\n",
      "Done (t=0.00s)\n",
      "creating index...\n",
      "index created!\n",
      "loading annotations into memory...\n",
      "Done (t=0.00s)\n",
      "creating index...\n",
      "index created!\n",
      "Continue training from epoch 1, skip 40 iterations\n",
      "Warning: (hack) args.override_resumed_lr_drop is set to True, so args.lr_drop would override lr_drop in resumed lr_scheduler.\n",
      "/home/qninhdt/anaconda3/envs/detr/lib/python3.11/site-packages/torch/optim/lr_scheduler.py:149: UserWarning: The epoch parameter in `scheduler.step()` was not necessary and is being deprecated where possible. Please use `scheduler.step()` to step the scheduler. During the deprecation, if epoch is different from None, the closed form is used instead of the new chainable form, where available. Please open an issue if you are unable to replicate your use case: https://github.com/pytorch/pytorch/issues/new/choose.\n",
      "  warnings.warn(EPOCH_DEPRECATION_WARNING, UserWarning)\n",
      "Start training\n",
      "/home/qninhdt/anaconda3/envs/detr/lib/python3.11/site-packages/torch/functional.py:504: UserWarning: torch.meshgrid: in an upcoming release, it will be required to pass the indexing argument. (Triggered internally at ../aten/src/ATen/native/TensorShape.cpp:3549.)\n",
      "  return _VF.meshgrid(tensors, **kwargs)  # type: ignore[attr-defined]\n",
      "Epoch: [1]  [40/90]  eta: 0:01:05  lr: 0.000200  class_error: 0.00  grad_norm: 101.77  loss: 24.0985 (24.0985)  loss_ce: 1.2504 (1.2504)  loss_bbox: 1.4104 (1.4104)  loss_giou: 1.4425 (1.4425)  loss_ce_0: 0.8617 (0.8617)  loss_bbox_0: 1.4422 (1.4422)  loss_giou_0: 1.4524 (1.4524)  loss_ce_1: 1.2694 (1.2694)  loss_bbox_1: 1.4306 (1.4306)  loss_giou_1: 1.4652 (1.4652)  loss_ce_2: 1.1498 (1.1498)  loss_bbox_2: 1.4119 (1.4119)  loss_giou_2: 1.4501 (1.4501)  loss_ce_3: 1.1873 (1.1873)  loss_bbox_3: 1.4004 (1.4004)  loss_giou_3: 1.4530 (1.4530)  loss_ce_4: 1.1745 (1.1745)  loss_bbox_4: 1.4068 (1.4068)  loss_giou_4: 1.4399 (1.4399)  loss_ce_unscaled: 0.6252 (0.6252)  class_error_unscaled: 0.0000 (0.0000)  loss_bbox_unscaled: 0.2821 (0.2821)  loss_giou_unscaled: 0.7212 (0.7212)  cardinality_error_unscaled: 298.0000 (298.0000)  loss_ce_0_unscaled: 0.4308 (0.4308)  loss_bbox_0_unscaled: 0.2884 (0.2884)  loss_giou_0_unscaled: 0.7262 (0.7262)  cardinality_error_0_unscaled: 298.0000 (298.0000)  loss_ce_1_unscaled: 0.6347 (0.6347)  loss_bbox_1_unscaled: 0.2861 (0.2861)  loss_giou_1_unscaled: 0.7326 (0.7326)  cardinality_error_1_unscaled: 298.0000 (298.0000)  loss_ce_2_unscaled: 0.5749 (0.5749)  loss_bbox_2_unscaled: 0.2824 (0.2824)  loss_giou_2_unscaled: 0.7251 (0.7251)  cardinality_error_2_unscaled: 298.0000 (298.0000)  loss_ce_3_unscaled: 0.5936 (0.5936)  loss_bbox_3_unscaled: 0.2801 (0.2801)  loss_giou_3_unscaled: 0.7265 (0.7265)  cardinality_error_3_unscaled: 298.0000 (298.0000)  loss_ce_4_unscaled: 0.5873 (0.5873)  loss_bbox_4_unscaled: 0.2814 (0.2814)  loss_giou_4_unscaled: 0.7200 (0.7200)  cardinality_error_4_unscaled: 298.0000 (298.0000)  time: 1.3134  data: 0.0000  max mem: 1824\n",
      "Saved checkpoint with epoch 1 and skip 50 iterations\n",
      "Epoch: [1]  [50/90]  eta: 0:00:26  lr: 0.000200  class_error: 100.00  grad_norm: 174.97  loss: 24.0985 (27.3118)  loss_ce: 1.3733 (1.4301)  loss_bbox: 0.9030 (1.6431)  loss_giou: 1.4642 (1.5145)  loss_ce_0: 1.2726 (1.3368)  loss_bbox_0: 0.9564 (1.6488)  loss_giou_0: 1.4872 (1.5203)  loss_ce_1: 1.4596 (1.4380)  loss_bbox_1: 0.8910 (1.6298)  loss_giou_1: 1.4912 (1.5039)  loss_ce_2: 1.3963 (1.4163)  loss_bbox_2: 0.8866 (1.6308)  loss_giou_2: 1.4710 (1.5020)  loss_ce_3: 1.3616 (1.4073)  loss_bbox_3: 0.9001 (1.6276)  loss_giou_3: 1.4929 (1.5082)  loss_ce_4: 1.4172 (1.4030)  loss_bbox_4: 0.9250 (1.6296)  loss_giou_4: 1.4824 (1.5217)  loss_ce_unscaled: 0.6866 (0.7150)  class_error_unscaled: 0.0000 (25.0000)  loss_bbox_unscaled: 0.1806 (0.3286)  loss_giou_unscaled: 0.7321 (0.7573)  cardinality_error_unscaled: 298.0000 (297.4545)  loss_ce_0_unscaled: 0.6363 (0.6684)  loss_bbox_0_unscaled: 0.1913 (0.3298)  loss_giou_0_unscaled: 0.7436 (0.7601)  cardinality_error_0_unscaled: 298.0000 (297.4545)  loss_ce_1_unscaled: 0.7298 (0.7190)  loss_bbox_1_unscaled: 0.1782 (0.3260)  loss_giou_1_unscaled: 0.7456 (0.7519)  cardinality_error_1_unscaled: 298.0000 (297.4545)  loss_ce_2_unscaled: 0.6982 (0.7081)  loss_bbox_2_unscaled: 0.1773 (0.3262)  loss_giou_2_unscaled: 0.7355 (0.7510)  cardinality_error_2_unscaled: 298.0000 (297.4545)  loss_ce_3_unscaled: 0.6808 (0.7037)  loss_bbox_3_unscaled: 0.1800 (0.3255)  loss_giou_3_unscaled: 0.7465 (0.7541)  cardinality_error_3_unscaled: 298.0000 (297.4545)  loss_ce_4_unscaled: 0.7086 (0.7015)  loss_bbox_4_unscaled: 0.1850 (0.3259)  loss_giou_4_unscaled: 0.7412 (0.7608)  cardinality_error_4_unscaled: 298.0000 (297.4545)  time: 0.6541  data: 0.0000  max mem: 2661\n",
      "Saved checkpoint with epoch 1 and skip 60 iterations\n",
      "Epoch: [1]  [60/90]  eta: 0:00:17  lr: 0.000200  class_error: 33.33  grad_norm: 170.26  loss: 23.0163 (26.4617)  loss_ce: 1.3733 (1.4155)  loss_bbox: 0.8840 (1.5700)  loss_giou: 1.4642 (1.4548)  loss_ce_0: 1.2526 (1.3265)  loss_bbox_0: 0.9314 (1.5819)  loss_giou_0: 1.4870 (1.4611)  loss_ce_1: 1.4172 (1.4111)  loss_bbox_1: 0.8825 (1.5572)  loss_giou_1: 1.4912 (1.4445)  loss_ce_2: 1.3722 (1.4142)  loss_bbox_2: 0.8775 (1.5638)  loss_giou_2: 1.4710 (1.4416)  loss_ce_3: 1.3190 (1.3953)  loss_bbox_3: 0.8944 (1.5658)  loss_giou_3: 1.4929 (1.4472)  loss_ce_4: 1.3603 (1.3932)  loss_bbox_4: 0.8992 (1.5586)  loss_giou_4: 1.4824 (1.4594)  loss_ce_unscaled: 0.6866 (0.7077)  class_error_unscaled: 0.0000 (26.5873)  loss_bbox_unscaled: 0.1768 (0.3140)  loss_giou_unscaled: 0.7321 (0.7274)  cardinality_error_unscaled: 298.0000 (297.7143)  loss_ce_0_unscaled: 0.6263 (0.6633)  loss_bbox_0_unscaled: 0.1863 (0.3164)  loss_giou_0_unscaled: 0.7435 (0.7305)  cardinality_error_0_unscaled: 298.0000 (297.7143)  loss_ce_1_unscaled: 0.7086 (0.7055)  loss_bbox_1_unscaled: 0.1765 (0.3114)  loss_giou_1_unscaled: 0.7456 (0.7222)  cardinality_error_1_unscaled: 298.0000 (297.7143)  loss_ce_2_unscaled: 0.6861 (0.7071)  loss_bbox_2_unscaled: 0.1755 (0.3128)  loss_giou_2_unscaled: 0.7355 (0.7208)  cardinality_error_2_unscaled: 298.0000 (297.7143)  loss_ce_3_unscaled: 0.6595 (0.6976)  loss_bbox_3_unscaled: 0.1789 (0.3132)  loss_giou_3_unscaled: 0.7465 (0.7236)  cardinality_error_3_unscaled: 298.0000 (297.7143)  loss_ce_4_unscaled: 0.6801 (0.6966)  loss_bbox_4_unscaled: 0.1798 (0.3117)  loss_giou_4_unscaled: 0.7412 (0.7297)  cardinality_error_4_unscaled: 298.0000 (297.7143)  time: 0.5599  data: 0.0000  max mem: 2661\n",
      "^C\n"
     ]
    }
   ],
   "source": [
    "!GPUS_PER_NODE=1 ./tools/run_dist_launch.sh 1 ./configs/local.sh --batch_size 1 --d 10"
   ]
  }
 ],
 "metadata": {
  "kernelspec": {
   "display_name": "detr",
   "language": "python",
   "name": "python3"
  },
  "language_info": {
   "codemirror_mode": {
    "name": "ipython",
    "version": 3
   },
   "file_extension": ".py",
   "mimetype": "text/x-python",
   "name": "python",
   "nbconvert_exporter": "python",
   "pygments_lexer": "ipython3",
   "version": "3.11.4"
  },
  "orig_nbformat": 4
 },
 "nbformat": 4,
 "nbformat_minor": 2
}
