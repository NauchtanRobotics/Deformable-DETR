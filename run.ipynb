{
 "cells": [
  {
   "cell_type": "code",
   "execution_count": 10,
   "metadata": {},
   "outputs": [
    {
     "name": "stdout",
     "output_type": "stream",
     "text": [
      "+ GPUS=1\n",
      "+ RUN_COMMAND='./configs/local.sh --batch_size 1 --d 10'\n",
      "+ '[' 1 -lt 8 ']'\n",
      "+ GPUS_PER_NODE=1\n",
      "+ MASTER_ADDR=127.0.0.1\n",
      "+ MASTER_PORT=29500\n",
      "+ NODE_RANK=0\n",
      "+ let NNODES=GPUS/GPUS_PER_NODE\n",
      "+ python ./tools/launch.py --nnodes 1 --node_rank 0 --master_addr 127.0.0.1 --master_port 29500 --nproc_per_node 1 ./configs/local.sh --batch_size 1 --d 10\n",
      "+ EXP_DIR=/home/qninhdt/code/Deformable-DETR-lmao/experiments\n",
      "+ PY_ARGS='--batch_size 1 --d 10'\n",
      "+ python -u main.py --output_dir /home/qninhdt/code/Deformable-DETR-lmao/experiments --resume /home/qninhdt/code/Deformable-DETR-lmao/experiments/checkpoint.pth --batch_size 1 --d 10\n",
      "| distributed init (rank 0): env://\n",
      "git:\n",
      "  sha: c2df36f4991a360db9901c153e6c2956b7dbe383, status: clean, branch: main\n",
      "\n",
      "/home/qninhdt/anaconda3/envs/detr/lib/python3.11/site-packages/torchvision/models/_utils.py:208: UserWarning: The parameter 'pretrained' is deprecated since 0.13 and may be removed in the future, please use 'weights' instead.\n",
      "  warnings.warn(\n",
      "/home/qninhdt/anaconda3/envs/detr/lib/python3.11/site-packages/torchvision/models/_utils.py:223: UserWarning: Arguments other than a weight enum or `None` for 'weights' are deprecated since 0.13 and may be removed in the future. The current behavior is equivalent to passing `weights=ResNet50_Weights.IMAGENET1K_V1`. You can also use `weights=ResNet50_Weights.DEFAULT` to get the most up-to-date weights.\n",
      "  warnings.warn(msg)\n",
      "number of params: 39847265\n",
      "loading annotations into memory...\n",
      "Done (t=0.00s)\n",
      "creating index...\n",
      "index created!\n",
      "loading annotations into memory...\n",
      "Done (t=0.00s)\n",
      "creating index...\n",
      "index created!\n",
      "Continue training from epoch 1, skip 60 iterations\n",
      "Warning: (hack) args.override_resumed_lr_drop is set to True, so args.lr_drop would override lr_drop in resumed lr_scheduler.\n",
      "/home/qninhdt/anaconda3/envs/detr/lib/python3.11/site-packages/torch/optim/lr_scheduler.py:149: UserWarning: The epoch parameter in `scheduler.step()` was not necessary and is being deprecated where possible. Please use `scheduler.step()` to step the scheduler. During the deprecation, if epoch is different from None, the closed form is used instead of the new chainable form, where available. Please open an issue if you are unable to replicate your use case: https://github.com/pytorch/pytorch/issues/new/choose.\n",
      "  warnings.warn(EPOCH_DEPRECATION_WARNING, UserWarning)\n",
      "Start training\n",
      "/home/qninhdt/anaconda3/envs/detr/lib/python3.11/site-packages/torch/functional.py:504: UserWarning: torch.meshgrid: in an upcoming release, it will be required to pass the indexing argument. (Triggered internally at ../aten/src/ATen/native/TensorShape.cpp:3549.)\n",
      "  return _VF.meshgrid(tensors, **kwargs)  # type: ignore[attr-defined]\n",
      "Epoch: [1]  [60/90]  eta: 0:00:31  lr: 0.000200  class_error: 33.33  grad_norm: 171.08  loss: 21.1266 (21.1266)  loss_ce: 1.1633 (1.1633)  loss_bbox: 0.8863 (0.8863)  loss_giou: 1.5662 (1.5662)  loss_ce_0: 1.1191 (1.1191)  loss_bbox_0: 0.8771 (0.8771)  loss_giou_0: 1.5780 (1.5780)  loss_ce_1: 1.0764 (1.0764)  loss_bbox_1: 0.8158 (0.8158)  loss_giou_1: 1.5260 (1.5260)  loss_ce_2: 1.1615 (1.1615)  loss_bbox_2: 0.8094 (0.8094)  loss_giou_2: 1.5079 (1.5079)  loss_ce_3: 1.1007 (1.1007)  loss_bbox_3: 0.8320 (0.8320)  loss_giou_3: 1.5382 (1.5382)  loss_ce_4: 1.1292 (1.1292)  loss_bbox_4: 0.8798 (0.8798)  loss_giou_4: 1.5596 (1.5596)  loss_ce_unscaled: 0.5817 (0.5817)  class_error_unscaled: 33.3333 (33.3333)  loss_bbox_unscaled: 0.1773 (0.1773)  loss_giou_unscaled: 0.7831 (0.7831)  cardinality_error_unscaled: 297.0000 (297.0000)  loss_ce_0_unscaled: 0.5595 (0.5595)  loss_bbox_0_unscaled: 0.1754 (0.1754)  loss_giou_0_unscaled: 0.7890 (0.7890)  cardinality_error_0_unscaled: 297.0000 (297.0000)  loss_ce_1_unscaled: 0.5382 (0.5382)  loss_bbox_1_unscaled: 0.1632 (0.1632)  loss_giou_1_unscaled: 0.7630 (0.7630)  cardinality_error_1_unscaled: 297.0000 (297.0000)  loss_ce_2_unscaled: 0.5808 (0.5808)  loss_bbox_2_unscaled: 0.1619 (0.1619)  loss_giou_2_unscaled: 0.7539 (0.7539)  cardinality_error_2_unscaled: 297.0000 (297.0000)  loss_ce_3_unscaled: 0.5503 (0.5503)  loss_bbox_3_unscaled: 0.1664 (0.1664)  loss_giou_3_unscaled: 0.7691 (0.7691)  cardinality_error_3_unscaled: 297.0000 (297.0000)  loss_ce_4_unscaled: 0.5646 (0.5646)  loss_bbox_4_unscaled: 0.1760 (0.1760)  loss_giou_4_unscaled: 0.7798 (0.7798)  cardinality_error_4_unscaled: 297.0000 (297.0000)  time: 1.0368  data: 0.0000  max mem: 1577\n",
      "Saved checkpoint with epoch 1 and skip 70 iterations\n",
      "Epoch: [1]  [70/90]  eta: 0:00:11  lr: 0.000200  class_error: 0.00  grad_norm: 123.92  loss: 25.1959 (26.7731)  loss_ce: 1.2637 (1.3196)  loss_bbox: 1.3125 (1.6231)  loss_giou: 1.5421 (1.5370)  loss_ce_0: 1.1191 (1.2225)  loss_bbox_0: 1.3603 (1.6166)  loss_giou_0: 1.5780 (1.5512)  loss_ce_1: 1.2199 (1.2924)  loss_bbox_1: 1.4374 (1.6215)  loss_giou_1: 1.5260 (1.5388)  loss_ce_2: 1.2661 (1.3198)  loss_bbox_2: 1.3607 (1.6000)  loss_giou_2: 1.5366 (1.5567)  loss_ce_3: 1.3489 (1.3548)  loss_bbox_3: 1.3419 (1.6080)  loss_giou_3: 1.5382 (1.5397)  loss_ce_4: 1.2694 (1.3122)  loss_bbox_4: 1.3248 (1.6206)  loss_giou_4: 1.5497 (1.5386)  loss_ce_unscaled: 0.6318 (0.6598)  class_error_unscaled: 0.0000 (23.7121)  loss_bbox_unscaled: 0.2625 (0.3246)  loss_giou_unscaled: 0.7710 (0.7685)  cardinality_error_unscaled: 298.0000 (297.3636)  loss_ce_0_unscaled: 0.5595 (0.6112)  loss_bbox_0_unscaled: 0.2721 (0.3233)  loss_giou_0_unscaled: 0.7890 (0.7756)  cardinality_error_0_unscaled: 298.0000 (297.3636)  loss_ce_1_unscaled: 0.6100 (0.6462)  loss_bbox_1_unscaled: 0.2875 (0.3243)  loss_giou_1_unscaled: 0.7630 (0.7694)  cardinality_error_1_unscaled: 298.0000 (297.3636)  loss_ce_2_unscaled: 0.6330 (0.6599)  loss_bbox_2_unscaled: 0.2721 (0.3200)  loss_giou_2_unscaled: 0.7683 (0.7783)  cardinality_error_2_unscaled: 298.0000 (297.3636)  loss_ce_3_unscaled: 0.6744 (0.6774)  loss_bbox_3_unscaled: 0.2684 (0.3216)  loss_giou_3_unscaled: 0.7691 (0.7698)  cardinality_error_3_unscaled: 298.0000 (297.3636)  loss_ce_4_unscaled: 0.6347 (0.6561)  loss_bbox_4_unscaled: 0.2650 (0.3241)  loss_giou_4_unscaled: 0.7748 (0.7693)  cardinality_error_4_unscaled: 298.0000 (297.3636)  time: 0.5881  data: 0.0000  max mem: 2825\n",
      "^C\n"
     ]
    }
   ],
   "source": [
    "!GPUS_PER_NODE=1 ./tools/run_dist_launch.sh 1 ./configs/local.sh --batch_size 1 --d 10"
   ]
  },
  {
   "cell_type": "code",
   "execution_count": 9,
   "metadata": {},
   "outputs": [
    {
     "name": "stdout",
     "output_type": "stream",
     "text": [
      "Not using distributed mode\n",
      "git:\n",
      "  sha: 4ff3d746c594e6211d2f7cc70015fc3915a3c437, status: has uncommited changes, branch: main\n",
      "\n",
      "Namespace(lr=0.0002, lr_backbone_names=['backbone.0'], lr_backbone=2e-05, lr_linear_proj_names=['reference_points', 'sampling_offsets'], lr_linear_proj_mult=0.1, batch_size=2, weight_decay=0.0001, epochs=50, lr_drop=40, lr_drop_epochs=None, clip_max_norm=0.1, sgd=False, with_box_refine=False, two_stage=False, frozen_weights=None, backbone='resnet50', dilation=False, position_embedding='sine', position_embedding_scale=6.283185307179586, num_feature_levels=4, enc_layers=6, dec_layers=6, dim_feedforward=1024, hidden_dim=256, dropout=0.1, nheads=8, num_queries=300, dec_n_points=4, enc_n_points=4, masks=False, aux_loss=True, set_cost_class=2, set_cost_bbox=5, set_cost_giou=2, mask_loss_coef=1, dice_loss_coef=1, cls_loss_coef=2, bbox_loss_coef=5, giou_loss_coef=2, focal_alpha=0.25, dataset_file='coco', coco_path='./data/coco', coco_panoptic_path=None, remove_difficult=False, output_dir='output', device='cuda', seed=42, resume='/home/qninhdt/code/Deformable-DETR-lmao/experiments/checkpoint.pth', start_epoch=0, eval=False, num_workers=2, cache_mode=False, distributed=False)\n",
      "/home/qninhdt/anaconda3/envs/detr/lib/python3.11/site-packages/torchvision/models/_utils.py:208: UserWarning: The parameter 'pretrained' is deprecated since 0.13 and may be removed in the future, please use 'weights' instead.\n",
      "  warnings.warn(\n",
      "/home/qninhdt/anaconda3/envs/detr/lib/python3.11/site-packages/torchvision/models/_utils.py:223: UserWarning: Arguments other than a weight enum or `None` for 'weights' are deprecated since 0.13 and may be removed in the future. The current behavior is equivalent to passing `weights=ResNet50_Weights.IMAGENET1K_V1`. You can also use `weights=ResNet50_Weights.DEFAULT` to get the most up-to-date weights.\n",
      "  warnings.warn(msg)\n",
      "  0%|                                                    | 0/10 [00:00<?, ?it/s]/home/qninhdt/anaconda3/envs/detr/lib/python3.11/site-packages/torch/functional.py:504: UserWarning: torch.meshgrid: in an upcoming release, it will be required to pass the indexing argument. (Triggered internally at ../aten/src/ATen/native/TensorShape.cpp:3549.)\n",
      "  return _VF.meshgrid(tensors, **kwargs)  # type: ignore[attr-defined]\n",
      "100%|███████████████████████████████████████████| 10/10 [00:05<00:00,  1.76it/s]\n"
     ]
    }
   ],
   "source": [
    "!python demo.py \\\n",
    "    --output_dir output \\\n",
    "    --resume /home/qninhdt/code/Deformable-DETR-lmao/experiments/checkpoint.pth"
   ]
  }
 ],
 "metadata": {
  "kernelspec": {
   "display_name": "detr",
   "language": "python",
   "name": "python3"
  },
  "language_info": {
   "codemirror_mode": {
    "name": "ipython",
    "version": 3
   },
   "file_extension": ".py",
   "mimetype": "text/x-python",
   "name": "python",
   "nbconvert_exporter": "python",
   "pygments_lexer": "ipython3",
   "version": "3.11.4"
  },
  "orig_nbformat": 4
 },
 "nbformat": 4,
 "nbformat_minor": 2
}
